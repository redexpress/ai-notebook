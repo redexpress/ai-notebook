{
 "cells": [
  {
   "cell_type": "markdown",
   "metadata": {},
   "source": [
    "### Newton sqrt\n"
   ]
  },
  {
   "cell_type": "code",
   "execution_count": 1,
   "metadata": {},
   "outputs": [],
   "source": [
    "import math\n",
    "import numpy as np\n"
   ]
  },
  {
   "cell_type": "code",
   "execution_count": 2,
   "metadata": {},
   "outputs": [
    {
     "name": "stdout",
     "output_type": "stream",
     "text": [
      "1\n",
      "2\n",
      "3\n",
      "4\n",
      "5\n",
      "1.414213562373095\n"
     ]
    },
    {
     "data": {
      "text/plain": [
       "1.4142135623730951"
      ]
     },
     "execution_count": 2,
     "metadata": {},
     "output_type": "execute_result"
    }
   ],
   "source": [
    "def calc(a):\n",
    "    almost_zero = 1e-6\n",
    "    if a < almost_zero:\n",
    "        return 0;\n",
    "    x = a / 2.0\n",
    "    t = a\n",
    "    c = 0\n",
    "    while abs(x - t) > almost_zero:\n",
    "        t = x\n",
    "        x = (x + a / x) / 2.0\n",
    "        c += 1\n",
    "        print(c)\n",
    "    return x\n",
    "\n",
    "root2 = calc(2)\n",
    "print(root2)\n",
    "r2 = math.sqrt(2)\n",
    "r2"
   ]
  },
  {
   "cell_type": "markdown",
   "metadata": {},
   "source": [
    "### 积分"
   ]
  },
  {
   "cell_type": "code",
   "execution_count": 3,
   "metadata": {},
   "outputs": [
    {
     "name": "stdout",
     "output_type": "stream",
     "text": [
      "1.0053583380382501e+17\n"
     ]
    },
    {
     "data": {
      "text/plain": [
       "1.0007851925466325"
      ]
     },
     "execution_count": 3,
     "metadata": {},
     "output_type": "execute_result"
    }
   ],
   "source": [
    "def integrate1(fn, sub, sup):\n",
    "    dx = (sup - sub) / 1000\n",
    "    i = sub\n",
    "    sum = 0\n",
    "    while i <= sup:\n",
    "        sum += fn(i) * dx\n",
    "        i += dx\n",
    "    return sum\n",
    "\n",
    "def f(x):\n",
    "    return math.e ** (5*x) * (x ** 3) - 3 * x\n",
    "\n",
    "r = integrate1(f, 5, 7)\n",
    "print(r)\n",
    "integrate1(np.sin, 0, math.pi/2)"
   ]
  },
  {
   "cell_type": "code",
   "execution_count": 4,
   "metadata": {},
   "outputs": [
    {
     "name": "stdout",
     "output_type": "stream",
     "text": [
      "1.00435843951e+17\n"
     ]
    },
    {
     "data": {
      "text/plain": [
       "0.99978519234080798"
      ]
     },
     "execution_count": 4,
     "metadata": {},
     "output_type": "execute_result"
    }
   ],
   "source": [
    "def integrate2(fn, sub, sup, n=1000): \n",
    "    x = np.linspace(sub, sup, n)\n",
    "    y = fn(x)\n",
    "    return np.sum(y) * (sup - sub) / n\n",
    "r = integrate2(f, 5, 7)\n",
    "print(r)\n",
    "r = integrate2(np.sin, 0, np.pi/2)\n",
    "r"
   ]
  },
  {
   "cell_type": "code",
   "execution_count": 5,
   "metadata": {},
   "outputs": [
    {
     "name": "stdout",
     "output_type": "stream",
     "text": [
      "9.99918241609e+16\n"
     ]
    },
    {
     "data": {
      "text/plain": [
       "0.99999979397138206"
      ]
     },
     "execution_count": 5,
     "metadata": {},
     "output_type": "execute_result"
    }
   ],
   "source": [
    "def integrate3(fn, sub, sup, n=1000): \n",
    "    x = np.linspace(sub, sup, n)\n",
    "    y = [fn(v) for v in x]\n",
    "    return np.trapz(y, x)\n",
    "\n",
    "r = integrate3(f, 5, 7)\n",
    "print(r)\n",
    "r = integrate3(math.sin, 0, np.pi/2)\n",
    "r"
   ]
  },
  {
   "cell_type": "code",
   "execution_count": 6,
   "metadata": {},
   "outputs": [],
   "source": [
    "from scipy import integrate"
   ]
  },
  {
   "cell_type": "code",
   "execution_count": 7,
   "metadata": {},
   "outputs": [
    {
     "name": "stdout",
     "output_type": "stream",
     "text": [
      "9.999083782221917e+16\n"
     ]
    },
    {
     "data": {
      "text/plain": [
       "0.9999999999999999"
      ]
     },
     "execution_count": 7,
     "metadata": {},
     "output_type": "execute_result"
    }
   ],
   "source": [
    "r = integrate.quad(f, 5, 7)[0]\n",
    "print(r)\n",
    "r = integrate.quad(math.sin, 0, np.pi/2)[0]\n",
    "r"
   ]
  }
 ],
 "metadata": {
  "kernelspec": {
   "display_name": "Python 3",
   "language": "python",
   "name": "python3"
  },
  "language_info": {
   "codemirror_mode": {
    "name": "ipython",
    "version": 3
   },
   "file_extension": ".py",
   "mimetype": "text/x-python",
   "name": "python",
   "nbconvert_exporter": "python",
   "pygments_lexer": "ipython3",
   "version": "3.6.3"
  }
 },
 "nbformat": 4,
 "nbformat_minor": 2
}
